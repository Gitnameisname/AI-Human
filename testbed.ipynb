{
 "cells": [
  {
   "cell_type": "markdown",
   "metadata": {},
   "source": [
    "### Streaming 응답 예제"
   ]
  },
  {
   "cell_type": "code",
   "execution_count": null,
   "metadata": {},
   "outputs": [
    {
     "name": "stdout",
     "output_type": "stream",
     "text": [
      "Hello! I’m an AI language model created by OpenAI. My main purpose is to assist users by providing information, answering questions, generating text, and engaging in conversation on a wide range of topics. Whether you need help with learning something new, solving a problem, or just want to chat, I'm here to help! What can I assist you with today?\n"
     ]
    }
   ],
   "source": [
    "from openai import OpenAI\n",
    "from src.constants import OPENAI_APIKEY\n",
    "client = OpenAI(api_key=OPENAI_APIKEY)\n",
    "\n",
    "completion = client.chat.completions.create(\n",
    "    model=\"gpt-4o-mini\",\n",
    "    messages=[\n",
    "        {\"role\": \"system\", \"content\": \"You are a helpful assistant.\"},\n",
    "        {\n",
    "            \"role\": \"user\",\n",
    "            \"content\": \"Hello, who are you and what do you do?\"\n",
    "        }\n",
    "    ]\n",
    ")\n",
    "\n",
    "print(completion.choices[0].message.content)"
   ]
  },
  {
   "cell_type": "code",
   "execution_count": 2,
   "metadata": {},
   "outputs": [
    {
     "name": "stdout",
     "output_type": "stream",
     "text": [
      "Function calls itself,  \n",
      "Layers of depth intertwine,  \n",
      "Infinity's loop.\n"
     ]
    }
   ],
   "source": [
    "print(completion.choices[0].message.content)"
   ]
  },
  {
   "cell_type": "code",
   "execution_count": null,
   "metadata": {},
   "outputs": [],
   "source": [
    "completion = client.chat.completions.create(\n",
    "      model=\"Mistral-Nemo-12b\",\n",
    "      messages=[\n",
    "        {\"role\": \"system\", \"content\": \"You are a helpful assistant. Always answer in Korean.\"},\n",
    "        {\"role\": \"user\", \"content\": \"OpenAI에 대해 알려줄래?\"}\n",
    "        ],\n",
    "      stream=False\n",
    ")\n",
    "\n",
    "print(completion.choices[0].message.content)"
   ]
  },
  {
   "cell_type": "code",
   "execution_count": null,
   "metadata": {},
   "outputs": [],
   "source": [
    "completion.choices[0].message.content"
   ]
  },
  {
   "cell_type": "code",
   "execution_count": null,
   "metadata": {},
   "outputs": [],
   "source": [
    "import requests\n",
    "\n",
    "url = \"http://localhost:8080/v1/chat/completions\"\n",
    "payload = {\n",
    "    \"messages\": [{\"role\": \"user\", \"content\": \"Hello, how are you?\"}],\n",
    "    \"stream\": True\n",
    "}\n",
    "\n",
    "response = requests.post(url, json=payload, stream=True)\n",
    "\n",
    "for line in response.iter_lines():\n",
    "    if line.detail:\n",
    "        print(line.decode('utf-8'))\n"
   ]
  },
  {
   "cell_type": "code",
   "execution_count": null,
   "metadata": {},
   "outputs": [],
   "source": [
    "import uvicorn\n",
    "import argparse\n",
    "import torch\n",
    "from threading import Thread\n",
    "from fastapi import FastAPI, HTTPException\n",
    "from pydantic import BaseModel\n",
    "from transformers import AutoModelForCausalLM, AutoTokenizer, TextIteratorStreamer"
   ]
  },
  {
   "cell_type": "code",
   "execution_count": null,
   "metadata": {},
   "outputs": [],
   "source": [
    "MODEL_PATH=\"/Users/ckchoi/Desktop/chatbot/Mistral-Nemo-12b\"\n",
    "tokenizer = AutoTokenizer.from_pretrained(MODEL_PATH)"
   ]
  },
  {
   "cell_type": "code",
   "execution_count": null,
   "metadata": {},
   "outputs": [],
   "source": [
    "model = AutoModelForCausalLM.from_pretrained(\n",
    "            MODEL_PATH,\n",
    "            device_map=\"auto\",\n",
    "            torch_dtype=torch.bfloat16,\n",
    "            trust_remote_code=True\n",
    "        )"
   ]
  },
  {
   "cell_type": "code",
   "execution_count": null,
   "metadata": {},
   "outputs": [],
   "source": [
    "messages=[\n",
    "        {\"role\": \"user\", \"content\": \"안녕?\"}\n",
    "    ]"
   ]
  },
  {
   "cell_type": "code",
   "execution_count": null,
   "metadata": {},
   "outputs": [],
   "source": [
    "def generate_response(messages):\n",
    "    inputs = tokenizer.apply_chat_template(\n",
    "                        messages,\n",
    "                        return_tensors=\"pt\",\n",
    "                        return_dict=True,\n",
    "                        add_generation_prompt=True,\n",
    "                        truncation=True,\n",
    "                        max_length=1024).to('mps')\n",
    "    streamer = TextIteratorStreamer(tokenizer, skip_prompt=True)\n",
    "    generation_kwargs = dict(inputs, streamer=streamer, max_new_tokens=1024)\n",
    "    thread = Thread(target=model.generate, kwargs=generation_kwargs)\n",
    "    thread.start()\n",
    "    response = ''\n",
    "    print(f\"streamer: {streamer}\")\n",
    "    for text in streamer:\n",
    "        response += text + ' '\n",
    "        print(f\"text: {text}\")\n",
    "        yield response"
   ]
  },
  {
   "cell_type": "code",
   "execution_count": null,
   "metadata": {},
   "outputs": [],
   "source": [
    "generate_response(messages)"
   ]
  },
  {
   "cell_type": "code",
   "execution_count": null,
   "metadata": {},
   "outputs": [],
   "source": [
    "for chunk in generate_response(messages):\n",
    "    print(f\"chunk: {chunk}\")"
   ]
  },
  {
   "cell_type": "code",
   "execution_count": null,
   "metadata": {},
   "outputs": [],
   "source": [
    "inputs = tokenizer.apply_chat_template(\n",
    "                        messages,\n",
    "                        return_tensors=\"pt\",\n",
    "                        return_dict=True,\n",
    "                        add_generation_prompt=True,\n",
    "                        truncation=True,\n",
    "                        max_length=1024).to('mps')\n",
    "streamer = TextIteratorStreamer(tokenizer, skip_prompt=True)\n",
    "generation_kwargs = dict(inputs, streamer=streamer, max_new_tokens=1024)\n",
    "thread = Thread(target=model.generate, kwargs=generation_kwargs)\n",
    "thread.start()\n",
    "for text in streamer:\n",
    "    print(type(text))"
   ]
  }
 ],
 "metadata": {
  "kernelspec": {
   "display_name": "Python 3",
   "language": "python",
   "name": "python3"
  },
  "language_info": {
   "codemirror_mode": {
    "name": "ipython",
    "version": 3
   },
   "file_extension": ".py",
   "mimetype": "text/x-python",
   "name": "python",
   "nbconvert_exporter": "python",
   "pygments_lexer": "ipython3",
   "version": "3.12.1"
  }
 },
 "nbformat": 4,
 "nbformat_minor": 2
}
